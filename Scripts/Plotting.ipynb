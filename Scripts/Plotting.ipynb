{
 "cells": [
  {
   "cell_type": "code",
   "execution_count": 1,
   "id": "willing-elimination",
   "metadata": {},
   "outputs": [],
   "source": [
    "library(ggplot2)\n",
    "library(ggpubr)\n",
    "library(tidyr)"
   ]
  },
  {
   "cell_type": "code",
   "execution_count": 22,
   "id": "c0fef84c-2ffb-48c9-b1ba-6b8ca429a9e6",
   "metadata": {},
   "outputs": [
    {
     "data": {
      "text/html": [
       "<ol class=list-inline>\n",
       "\t<li>'Isolate'</li>\n",
       "\t<li>'VCG'</li>\n",
       "\t<li>'contrast_1205'</li>\n",
       "\t<li>'dissimilarity_1205'</li>\n",
       "\t<li>'homogeneity_1205'</li>\n",
       "\t<li>'energy_1205'</li>\n",
       "\t<li>'correlation_1205'</li>\n",
       "\t<li>'ASM_1205'</li>\n",
       "\t<li>'entropy_1205'</li>\n",
       "</ol>\n"
      ],
      "text/latex": [
       "\\begin{enumerate*}\n",
       "\\item 'Isolate'\n",
       "\\item 'VCG'\n",
       "\\item 'contrast\\_1205'\n",
       "\\item 'dissimilarity\\_1205'\n",
       "\\item 'homogeneity\\_1205'\n",
       "\\item 'energy\\_1205'\n",
       "\\item 'correlation\\_1205'\n",
       "\\item 'ASM\\_1205'\n",
       "\\item 'entropy\\_1205'\n",
       "\\end{enumerate*}\n"
      ],
      "text/markdown": [
       "1. 'Isolate'\n",
       "2. 'VCG'\n",
       "3. 'contrast_1205'\n",
       "4. 'dissimilarity_1205'\n",
       "5. 'homogeneity_1205'\n",
       "6. 'energy_1205'\n",
       "7. 'correlation_1205'\n",
       "8. 'ASM_1205'\n",
       "9. 'entropy_1205'\n",
       "\n",
       "\n"
      ],
      "text/plain": [
       "[1] \"Isolate\"            \"VCG\"                \"contrast_1205\"     \n",
       "[4] \"dissimilarity_1205\" \"homogeneity_1205\"   \"energy_1205\"       \n",
       "[7] \"correlation_1205\"   \"ASM_1205\"           \"entropy_1205\"      "
      ]
     },
     "metadata": {},
     "output_type": "display_data"
    }
   ],
   "source": [
    "df = read.csv('./Data/2021/Combined/texture_1205.csv')\n",
    "names(df)"
   ]
  },
  {
   "cell_type": "code",
   "execution_count": 23,
   "id": "9ced9321-f273-4083-8ef1-af2650ffad85",
   "metadata": {},
   "outputs": [
    {
     "data": {
      "text/html": [
       "<table>\n",
       "<thead><tr><th scope=col>Isolate</th><th scope=col>VCG</th><th scope=col>Contrast</th><th scope=col>Dissimilarity</th><th scope=col>Homogeneity</th><th scope=col>Energy</th><th scope=col>Correlation</th><th scope=col>ASM</th><th scope=col>Entropy</th></tr></thead>\n",
       "<tbody>\n",
       "\t<tr><td>100       </td><td>2B        </td><td>283.3327  </td><td>8.817531  </td><td>0.4011747 </td><td>0.3244696 </td><td>0.7667403 </td><td>0.10528050</td><td> 8.338703 </td></tr>\n",
       "\t<tr><td>100       </td><td>2B        </td><td>153.9599  </td><td>5.907051  </td><td>0.4845947 </td><td>0.4000027 </td><td>0.7860604 </td><td>0.16000219</td><td> 7.175720 </td></tr>\n",
       "\t<tr><td> 10       </td><td>4A        </td><td>305.3873  </td><td>9.394162  </td><td>0.3041356 </td><td>0.1892919 </td><td>0.8786140 </td><td>0.03583143</td><td>10.052318 </td></tr>\n",
       "\t<tr><td> 10       </td><td>4A        </td><td>301.5622  </td><td>8.264418  </td><td>0.3134430 </td><td>0.1586819 </td><td>0.7686183 </td><td>0.02517993</td><td> 9.471451 </td></tr>\n",
       "\t<tr><td> 10       </td><td>4A        </td><td>190.8170  </td><td>6.166057  </td><td>0.6130736 </td><td>0.5758677 </td><td>0.3970573 </td><td>0.33162358</td><td> 4.741527 </td></tr>\n",
       "\t<tr><td> 10       </td><td>4A        </td><td>260.3435  </td><td>9.304036  </td><td>0.2754792 </td><td>0.1649908 </td><td>0.8009767 </td><td>0.02722198</td><td> 9.685995 </td></tr>\n",
       "</tbody>\n",
       "</table>\n"
      ],
      "text/latex": [
       "\\begin{tabular}{r|lllllllll}\n",
       " Isolate & VCG & Contrast & Dissimilarity & Homogeneity & Energy & Correlation & ASM & Entropy\\\\\n",
       "\\hline\n",
       "\t 100        & 2B         & 283.3327   & 8.817531   & 0.4011747  & 0.3244696  & 0.7667403  & 0.10528050 &  8.338703 \\\\\n",
       "\t 100        & 2B         & 153.9599   & 5.907051   & 0.4845947  & 0.4000027  & 0.7860604  & 0.16000219 &  7.175720 \\\\\n",
       "\t  10        & 4A         & 305.3873   & 9.394162   & 0.3041356  & 0.1892919  & 0.8786140  & 0.03583143 & 10.052318 \\\\\n",
       "\t  10        & 4A         & 301.5622   & 8.264418   & 0.3134430  & 0.1586819  & 0.7686183  & 0.02517993 &  9.471451 \\\\\n",
       "\t  10        & 4A         & 190.8170   & 6.166057   & 0.6130736  & 0.5758677  & 0.3970573  & 0.33162358 &  4.741527 \\\\\n",
       "\t  10        & 4A         & 260.3435   & 9.304036   & 0.2754792  & 0.1649908  & 0.8009767  & 0.02722198 &  9.685995 \\\\\n",
       "\\end{tabular}\n"
      ],
      "text/markdown": [
       "\n",
       "| Isolate | VCG | Contrast | Dissimilarity | Homogeneity | Energy | Correlation | ASM | Entropy |\n",
       "|---|---|---|---|---|---|---|---|---|\n",
       "| 100        | 2B         | 283.3327   | 8.817531   | 0.4011747  | 0.3244696  | 0.7667403  | 0.10528050 |  8.338703  |\n",
       "| 100        | 2B         | 153.9599   | 5.907051   | 0.4845947  | 0.4000027  | 0.7860604  | 0.16000219 |  7.175720  |\n",
       "|  10        | 4A         | 305.3873   | 9.394162   | 0.3041356  | 0.1892919  | 0.8786140  | 0.03583143 | 10.052318  |\n",
       "|  10        | 4A         | 301.5622   | 8.264418   | 0.3134430  | 0.1586819  | 0.7686183  | 0.02517993 |  9.471451  |\n",
       "|  10        | 4A         | 190.8170   | 6.166057   | 0.6130736  | 0.5758677  | 0.3970573  | 0.33162358 |  4.741527  |\n",
       "|  10        | 4A         | 260.3435   | 9.304036   | 0.2754792  | 0.1649908  | 0.8009767  | 0.02722198 |  9.685995  |\n",
       "\n"
      ],
      "text/plain": [
       "  Isolate VCG Contrast Dissimilarity Homogeneity Energy    Correlation\n",
       "1 100     2B  283.3327 8.817531      0.4011747   0.3244696 0.7667403  \n",
       "2 100     2B  153.9599 5.907051      0.4845947   0.4000027 0.7860604  \n",
       "3  10     4A  305.3873 9.394162      0.3041356   0.1892919 0.8786140  \n",
       "4  10     4A  301.5622 8.264418      0.3134430   0.1586819 0.7686183  \n",
       "5  10     4A  190.8170 6.166057      0.6130736   0.5758677 0.3970573  \n",
       "6  10     4A  260.3435 9.304036      0.2754792   0.1649908 0.8009767  \n",
       "  ASM        Entropy  \n",
       "1 0.10528050  8.338703\n",
       "2 0.16000219  7.175720\n",
       "3 0.03583143 10.052318\n",
       "4 0.02517993  9.471451\n",
       "5 0.33162358  4.741527\n",
       "6 0.02722198  9.685995"
      ]
     },
     "metadata": {},
     "output_type": "display_data"
    }
   ],
   "source": [
    "names(df) = c(\"Isolate\",'VCG', 'Contrast', 'Dissimilarity', 'Homogeneity', 'Energy', 'Correlation', 'ASM', 'Entropy')\n",
    "head(df)"
   ]
  },
  {
   "cell_type": "code",
   "execution_count": 24,
   "id": "5ad3bf32-0c92-48ba-a324-fdade9bedd7d",
   "metadata": {},
   "outputs": [
    {
     "data": {
      "text/html": [
       "<ol class=list-inline>\n",
       "\t<li>715</li>\n",
       "\t<li>9</li>\n",
       "</ol>\n"
      ],
      "text/latex": [
       "\\begin{enumerate*}\n",
       "\\item 715\n",
       "\\item 9\n",
       "\\end{enumerate*}\n"
      ],
      "text/markdown": [
       "1. 715\n",
       "2. 9\n",
       "\n",
       "\n"
      ],
      "text/plain": [
       "[1] 715   9"
      ]
     },
     "metadata": {},
     "output_type": "display_data"
    }
   ],
   "source": [
    "df=df[(df$VCG == '4B' | df$VCG == '2B' | df$VCG == '4A'),]\n",
    "dim(df)"
   ]
  },
  {
   "cell_type": "code",
   "execution_count": 25,
   "id": "9d1f607c-f476-4580-b2d6-615dad8252dd",
   "metadata": {},
   "outputs": [
    {
     "data": {
      "text/html": [
       "<table>\n",
       "<thead><tr><th scope=col>Isolate</th><th scope=col>VCG</th><th scope=col>feature</th><th scope=col>value</th></tr></thead>\n",
       "<tbody>\n",
       "\t<tr><td>100       </td><td>2B        </td><td>Contrast  </td><td>-0.9534918</td></tr>\n",
       "\t<tr><td>100       </td><td>2B        </td><td>Contrast  </td><td>-1.2076795</td></tr>\n",
       "\t<tr><td> 10       </td><td>4A        </td><td>Contrast  </td><td>-0.9101597</td></tr>\n",
       "\t<tr><td> 10       </td><td>4A        </td><td>Contrast  </td><td>-0.9176751</td></tr>\n",
       "\t<tr><td> 10       </td><td>4A        </td><td>Contrast  </td><td>-1.1352639</td></tr>\n",
       "\t<tr><td> 10       </td><td>4A        </td><td>Contrast  </td><td>-0.9986604</td></tr>\n",
       "</tbody>\n",
       "</table>\n"
      ],
      "text/latex": [
       "\\begin{tabular}{r|llll}\n",
       " Isolate & VCG & feature & value\\\\\n",
       "\\hline\n",
       "\t 100        & 2B         & Contrast   & -0.9534918\\\\\n",
       "\t 100        & 2B         & Contrast   & -1.2076795\\\\\n",
       "\t  10        & 4A         & Contrast   & -0.9101597\\\\\n",
       "\t  10        & 4A         & Contrast   & -0.9176751\\\\\n",
       "\t  10        & 4A         & Contrast   & -1.1352639\\\\\n",
       "\t  10        & 4A         & Contrast   & -0.9986604\\\\\n",
       "\\end{tabular}\n"
      ],
      "text/markdown": [
       "\n",
       "| Isolate | VCG | feature | value |\n",
       "|---|---|---|---|\n",
       "| 100        | 2B         | Contrast   | -0.9534918 |\n",
       "| 100        | 2B         | Contrast   | -1.2076795 |\n",
       "|  10        | 4A         | Contrast   | -0.9101597 |\n",
       "|  10        | 4A         | Contrast   | -0.9176751 |\n",
       "|  10        | 4A         | Contrast   | -1.1352639 |\n",
       "|  10        | 4A         | Contrast   | -0.9986604 |\n",
       "\n"
      ],
      "text/plain": [
       "  Isolate VCG feature  value     \n",
       "1 100     2B  Contrast -0.9534918\n",
       "2 100     2B  Contrast -1.2076795\n",
       "3  10     4A  Contrast -0.9101597\n",
       "4  10     4A  Contrast -0.9176751\n",
       "5  10     4A  Contrast -1.1352639\n",
       "6  10     4A  Contrast -0.9986604"
      ]
     },
     "metadata": {},
     "output_type": "display_data"
    }
   ],
   "source": [
    "df[,c(3:9)] = scale(df[, c(3:9)])\n",
    "df_gather = gather(df, feature, value, Contrast: Entropy)\n",
    "head(df_gather)"
   ]
  },
  {
   "cell_type": "raw",
   "id": "952114d4-dcd2-46ee-952d-91dc5ab139cc",
   "metadata": {},
   "source": [
    "df$VCG =gsub('2B', 'VCG_2B', df$VCG)\n",
    "df$VCG =gsub('4A', 'VCG_4A', df$VCG)\n",
    "df$VCG =gsub('4B', 'VCG_4B', df$VCG)\n"
   ]
  },
  {
   "cell_type": "code",
   "execution_count": 27,
   "id": "b4801def-9b1f-4bfe-9c22-084a2168a2eb",
   "metadata": {},
   "outputs": [
    {
     "data": {
      "text/html": [
       "<strong>png:</strong> 2"
      ],
      "text/latex": [
       "\\textbf{png:} 2"
      ],
      "text/markdown": [
       "**png:** 2"
      ],
      "text/plain": [
       "png \n",
       "  2 "
      ]
     },
     "metadata": {},
     "output_type": "display_data"
    }
   ],
   "source": [
    "options(repr.plot.width =20, repr.plot.height = 10)\n",
    "tiff('Texture 1205 features revised.tiff', width =20, height =10, units ='in', res = 300)\n",
    "Tex = ggplot(df_gather, aes(feature, value, color= VCG))+\n",
    "geom_boxplot(size =1, alpha = 0.6)+\n",
    "geom_hline(yintercept = 0, alpha = 0.5)+\n",
    "geom_point(position= position_jitterdodge(jitter.width = 0.1,jitter.height = 0), alpha = 0.3) +\n",
    "theme_bw()+\n",
    "labs(title ='', x = 'Texture feature', y ='Standardized value' )+\n",
    "    theme(axis.title.x= element_text(size =26, color ='black'),\n",
    "    axis.title.y = element_text(size =26, color ='black'),\n",
    "    axis.text.x = element_text(vjust =1, hjust = 1, size =22,angle =30,color = 'black'),\n",
    "    axis.text.y = element_text(size =22, color = 'black'),\n",
    "    plot.margin=unit(c(1,1,1,2),\"cm\"), # top, right, bottom, left\n",
    "    strip.text.x = element_text(size = 24),\n",
    "   \n",
    "    legend.text = element_text(size =20),\n",
    "    legend.title = element_text(size =22),\n",
    "    legend.key.size = unit(1.5, 'cm'))+\n",
    "    guides(fill = guide_legend('VCG', override.aes = list(alpha =0.6)))+\n",
    "scale_color_manual(values= c('red', 'seagreen', 'blue'))\n",
    "#scale_color_manual(values= c('blue', 'orange', 'darkolivegreen'))\n",
    "Tex\n",
    "dev.off()"
   ]
  },
  {
   "cell_type": "code",
   "execution_count": null,
   "id": "3b268c08-ced1-4786-81b1-dba647ae4938",
   "metadata": {},
   "outputs": [],
   "source": []
  }
 ],
 "metadata": {
  "kernelspec": {
   "display_name": "R",
   "language": "R",
   "name": "ir"
  },
  "language_info": {
   "codemirror_mode": "r",
   "file_extension": ".r",
   "mimetype": "text/x-r-source",
   "name": "R",
   "pygments_lexer": "r",
   "version": "3.6.3"
  }
 },
 "nbformat": 4,
 "nbformat_minor": 5
}

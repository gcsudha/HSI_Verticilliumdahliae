{
 "cells": [
  {
   "cell_type": "markdown",
   "metadata": {},
   "source": [
    "<h1> <center> Hyperspectral Imaging to classify Vegetative compatability groups (VCGs) of $Verticillium$ $dahliae$ </center></h1> "
   ]
  },
  {
   "cell_type": "markdown",
   "metadata": {},
   "source": [
    "**Objectives**"
   ]
  },
  {
   "cell_type": "markdown",
   "metadata": {},
   "source": [
    "* Classify Vegetative compatibility groups (VCGs) of V. dahliae using hyperspectral imagery\n",
    "* Evaluate performance of different machine learning models to classify VCGs based on spectral reflectance and texture features"
   ]
  },
  {
   "cell_type": "markdown",
   "metadata": {},
   "source": [
    "**HSI Analysis Work flow**"
   ]
  },
  {
   "cell_type": "markdown",
   "metadata": {},
   "source": [
    "* Acquire data\n",
    "    * Dark reference\n",
    "    * White reference\n",
    "    * Data\n",
    "    * Acquired images for each isolate are in the separate folder. There are total 228 folders. Each folder has dark, white and data image which will be used for the calibration of image.\n",
    "* Image pre-processing\n",
    "    * Image calibration\n",
    "        * calibrated image = $ Rawimage(I)- darkimage(I)/ whiteimage(I)-darkimage(I)$\n",
    "    * Circular mask creation and Image segementation\n",
    "    * Calculate mean spectra\n",
    "    * Normalization\n",
    "    * Cut first and last four bands for enhanced signal to noise ratio\n",
    "* Feature Extraction and Selection\n",
    "    * Feature Extraction/Ordination (PCA, LDA)\n",
    "    * Feature Selection (LASSO, Random Forest, SVM(linear))\n",
    "* Inference\n",
    "    * SVM\n",
    "    * KNN \n",
    "    * Random forest\n",
    "    * CNN\n",
    "* Identification and interpretation\n",
    "* Reference \n",
    "    * [Paulus and Mahleing 2020](https://academic.oup.com/gigascience/article/9/8/giaa090/5894826)\n",
    "    * [Xie et al 2015](https://www.nature.com/articles/srep16564)"
   ]
  },
  {
   "cell_type": "markdown",
   "metadata": {},
   "source": [
    "## Import data"
   ]
  },
  {
   "cell_type": "markdown",
   "metadata": {},
   "source": [
    "**Import Python Packages**"
   ]
  },
  {
   "cell_type": "code",
   "execution_count": 1,
   "metadata": {},
   "outputs": [],
   "source": [
    "#Packages \n",
    "import numpy as np\n",
    "import matplotlib.pyplot as plt\n",
    "import matplotlib\n",
    "from matplotlib.ticker import StrMethodFormatter\n",
    "%matplotlib inline\n",
    "import seaborn as sns # plotting\n",
    "import pandas as pd\n",
    "import os\n",
    "import pathlib"
   ]
  },
  {
   "cell_type": "code",
   "execution_count": 41,
   "metadata": {},
   "outputs": [
    {
     "name": "stdout",
     "output_type": "stream",
     "text": [
      "(746, 623)\n"
     ]
    },
    {
     "data": {
      "text/html": [
       "<div>\n",
       "<style scoped>\n",
       "    .dataframe tbody tr th:only-of-type {\n",
       "        vertical-align: middle;\n",
       "    }\n",
       "\n",
       "    .dataframe tbody tr th {\n",
       "        vertical-align: top;\n",
       "    }\n",
       "\n",
       "    .dataframe thead th {\n",
       "        text-align: right;\n",
       "    }\n",
       "</style>\n",
       "<table border=\"1\" class=\"dataframe\">\n",
       "  <thead>\n",
       "    <tr style=\"text-align: right;\">\n",
       "      <th></th>\n",
       "      <th>Isolate</th>\n",
       "      <th>Replication</th>\n",
       "      <th>VCG</th>\n",
       "      <th>574.932_all</th>\n",
       "      <th>583.221_all</th>\n",
       "      <th>591.509_all</th>\n",
       "      <th>599.798_all</th>\n",
       "      <th>608.086_all</th>\n",
       "      <th>616.374_all</th>\n",
       "      <th>624.663_all</th>\n",
       "      <th>...</th>\n",
       "      <th>perimeter_all</th>\n",
       "      <th>solidity_all</th>\n",
       "      <th>compactness_all</th>\n",
       "      <th>area_gray</th>\n",
       "      <th>eccentricity_gray</th>\n",
       "      <th>major_axis_length_gray</th>\n",
       "      <th>minor_axis_length_gray</th>\n",
       "      <th>perimeter_gray</th>\n",
       "      <th>solidity_gray</th>\n",
       "      <th>compactness_gray</th>\n",
       "    </tr>\n",
       "  </thead>\n",
       "  <tbody>\n",
       "    <tr>\n",
       "      <th>0</th>\n",
       "      <td>100</td>\n",
       "      <td>1</td>\n",
       "      <td>2B</td>\n",
       "      <td>0.228179</td>\n",
       "      <td>0.241779</td>\n",
       "      <td>0.251570</td>\n",
       "      <td>0.260101</td>\n",
       "      <td>0.268141</td>\n",
       "      <td>0.275407</td>\n",
       "      <td>0.281489</td>\n",
       "      <td>...</td>\n",
       "      <td>1463.218434</td>\n",
       "      <td>0.633821</td>\n",
       "      <td>4.661245</td>\n",
       "      <td>5384</td>\n",
       "      <td>0.353545</td>\n",
       "      <td>216.328109</td>\n",
       "      <td>202.357133</td>\n",
       "      <td>1254.176803</td>\n",
       "      <td>0.263857</td>\n",
       "      <td>1.545551</td>\n",
       "    </tr>\n",
       "    <tr>\n",
       "      <th>1</th>\n",
       "      <td>100</td>\n",
       "      <td>3</td>\n",
       "      <td>2B</td>\n",
       "      <td>0.202215</td>\n",
       "      <td>0.200691</td>\n",
       "      <td>0.201909</td>\n",
       "      <td>0.205145</td>\n",
       "      <td>0.207361</td>\n",
       "      <td>0.213640</td>\n",
       "      <td>0.218978</td>\n",
       "      <td>...</td>\n",
       "      <td>1366.810317</td>\n",
       "      <td>0.588505</td>\n",
       "      <td>4.163811</td>\n",
       "      <td>4915</td>\n",
       "      <td>0.253699</td>\n",
       "      <td>221.334321</td>\n",
       "      <td>214.092966</td>\n",
       "      <td>1067.259018</td>\n",
       "      <td>0.228276</td>\n",
       "      <td>1.303414</td>\n",
       "    </tr>\n",
       "    <tr>\n",
       "      <th>2</th>\n",
       "      <td>10</td>\n",
       "      <td>1</td>\n",
       "      <td>4A</td>\n",
       "      <td>0.527239</td>\n",
       "      <td>0.549440</td>\n",
       "      <td>0.568393</td>\n",
       "      <td>0.583382</td>\n",
       "      <td>0.596930</td>\n",
       "      <td>0.611416</td>\n",
       "      <td>0.623855</td>\n",
       "      <td>...</td>\n",
       "      <td>552.558441</td>\n",
       "      <td>0.994402</td>\n",
       "      <td>9.846371</td>\n",
       "      <td>2741</td>\n",
       "      <td>0.529670</td>\n",
       "      <td>120.981989</td>\n",
       "      <td>102.617397</td>\n",
       "      <td>861.086399</td>\n",
       "      <td>0.354317</td>\n",
       "      <td>2.774452</td>\n",
       "    </tr>\n",
       "    <tr>\n",
       "      <th>3</th>\n",
       "      <td>10</td>\n",
       "      <td>2</td>\n",
       "      <td>4A</td>\n",
       "      <td>0.534530</td>\n",
       "      <td>0.554637</td>\n",
       "      <td>0.572590</td>\n",
       "      <td>0.587962</td>\n",
       "      <td>0.602182</td>\n",
       "      <td>0.617135</td>\n",
       "      <td>0.630760</td>\n",
       "      <td>...</td>\n",
       "      <td>422.818326</td>\n",
       "      <td>0.992377</td>\n",
       "      <td>9.869066</td>\n",
       "      <td>673</td>\n",
       "      <td>0.865648</td>\n",
       "      <td>116.893786</td>\n",
       "      <td>58.523303</td>\n",
       "      <td>298.273124</td>\n",
       "      <td>0.161974</td>\n",
       "      <td>1.236245</td>\n",
       "    </tr>\n",
       "    <tr>\n",
       "      <th>4</th>\n",
       "      <td>10</td>\n",
       "      <td>3</td>\n",
       "      <td>4A</td>\n",
       "      <td>0.151773</td>\n",
       "      <td>0.173584</td>\n",
       "      <td>0.182473</td>\n",
       "      <td>0.198057</td>\n",
       "      <td>0.210361</td>\n",
       "      <td>0.220400</td>\n",
       "      <td>0.229987</td>\n",
       "      <td>...</td>\n",
       "      <td>551.830519</td>\n",
       "      <td>0.240701</td>\n",
       "      <td>1.819535</td>\n",
       "      <td>713</td>\n",
       "      <td>0.811296</td>\n",
       "      <td>124.449119</td>\n",
       "      <td>72.757359</td>\n",
       "      <td>362.326948</td>\n",
       "      <td>0.118164</td>\n",
       "      <td>0.989534</td>\n",
       "    </tr>\n",
       "  </tbody>\n",
       "</table>\n",
       "<p>5 rows × 623 columns</p>\n",
       "</div>"
      ],
      "text/plain": [
       "   Isolate  Replication VCG  574.932_all  583.221_all  591.509_all  \\\n",
       "0      100            1  2B     0.228179     0.241779     0.251570   \n",
       "1      100            3  2B     0.202215     0.200691     0.201909   \n",
       "2       10            1  4A     0.527239     0.549440     0.568393   \n",
       "3       10            2  4A     0.534530     0.554637     0.572590   \n",
       "4       10            3  4A     0.151773     0.173584     0.182473   \n",
       "\n",
       "   599.798_all  608.086_all  616.374_all  624.663_all  ...  perimeter_all  \\\n",
       "0     0.260101     0.268141     0.275407     0.281489  ...    1463.218434   \n",
       "1     0.205145     0.207361     0.213640     0.218978  ...    1366.810317   \n",
       "2     0.583382     0.596930     0.611416     0.623855  ...     552.558441   \n",
       "3     0.587962     0.602182     0.617135     0.630760  ...     422.818326   \n",
       "4     0.198057     0.210361     0.220400     0.229987  ...     551.830519   \n",
       "\n",
       "   solidity_all  compactness_all  area_gray  eccentricity_gray  \\\n",
       "0      0.633821         4.661245       5384           0.353545   \n",
       "1      0.588505         4.163811       4915           0.253699   \n",
       "2      0.994402         9.846371       2741           0.529670   \n",
       "3      0.992377         9.869066        673           0.865648   \n",
       "4      0.240701         1.819535        713           0.811296   \n",
       "\n",
       "   major_axis_length_gray  minor_axis_length_gray  perimeter_gray  \\\n",
       "0              216.328109              202.357133     1254.176803   \n",
       "1              221.334321              214.092966     1067.259018   \n",
       "2              120.981989              102.617397      861.086399   \n",
       "3              116.893786               58.523303      298.273124   \n",
       "4              124.449119               72.757359      362.326948   \n",
       "\n",
       "   solidity_gray  compactness_gray  \n",
       "0       0.263857          1.545551  \n",
       "1       0.228276          1.303414  \n",
       "2       0.354317          2.774452  \n",
       "3       0.161974          1.236245  \n",
       "4       0.118164          0.989534  \n",
       "\n",
       "[5 rows x 623 columns]"
      ]
     },
     "execution_count": 41,
     "metadata": {},
     "output_type": "execute_result"
    }
   ],
   "source": [
    "df = pd.read_csv('./Data/2021/Combined/df_features_all.csv')\n",
    "print(df.shape)\n",
    "df.head()"
   ]
  },
  {
   "cell_type": "code",
   "execution_count": 42,
   "metadata": {},
   "outputs": [
    {
     "name": "stdout",
     "output_type": "stream",
     "text": [
      "(715, 623)\n"
     ]
    }
   ],
   "source": [
    "df = df[(df['VCG'] == '2B') | (df['VCG'] == '4A') | (df['VCG'] == '4B')]\n",
    "print(df.shape)"
   ]
  },
  {
   "cell_type": "code",
   "execution_count": 43,
   "metadata": {},
   "outputs": [
    {
     "data": {
      "text/plain": [
       "(715, 623)"
      ]
     },
     "execution_count": 43,
     "metadata": {},
     "output_type": "execute_result"
    }
   ],
   "source": [
    "# Replace '4A' with '4B' in the 'VCG' column\n",
    "# Map '4A' to '4B' and keep other values unchanged\n",
    "df['VCG'] = df['VCG'].map({'2B': '4B'}).fillna(df['VCG'])\n",
    "df.shape"
   ]
  },
  {
   "cell_type": "code",
   "execution_count": 44,
   "metadata": {},
   "outputs": [],
   "source": [
    "df = df.fillna(0)"
   ]
  },
  {
   "cell_type": "code",
   "execution_count": 45,
   "metadata": {},
   "outputs": [],
   "source": [
    "from sklearn.model_selection import train_test_split\n",
    "from sklearn.preprocessing import StandardScaler"
   ]
  },
  {
   "cell_type": "code",
   "execution_count": 46,
   "metadata": {},
   "outputs": [
    {
     "name": "stdout",
     "output_type": "stream",
     "text": [
      "(502, 623)\n",
      "(213, 623)\n"
     ]
    }
   ],
   "source": [
    "# Perform stratified split by VCG\n",
    "df_train = pd.DataFrame()\n",
    "df_test = pd.DataFrame()\n",
    "\n",
    "# Iterate through each VCG to split isolates within each class\n",
    "for vcg, group in df.groupby(\"VCG\"):\n",
    "    # Get unique isolates for the current VCG\n",
    "    unique_isolates = group[\"Isolate\"].unique()\n",
    "    \n",
    "    # Split isolates into train and test sets (70% train, 30% test)\n",
    "    train_isolates, test_isolates = train_test_split(unique_isolates, test_size=0.3, random_state=99163)\n",
    "    \n",
    "    # Subset data for train and test based on isolates\n",
    "    train_subset = group[group[\"Isolate\"].isin(train_isolates)]\n",
    "    test_subset = group[group[\"Isolate\"].isin(test_isolates)]\n",
    "    \n",
    "    # Append to overall train and test datasets\n",
    "    df_train = pd.concat([df_train, train_subset])\n",
    "    df_test = pd.concat([df_test, test_subset])\n",
    "\n",
    "print(df_train.shape)\n",
    "print(df_test.shape)\n"
   ]
  },
  {
   "cell_type": "markdown",
   "metadata": {},
   "source": [
    "### Train set"
   ]
  },
  {
   "cell_type": "code",
   "execution_count": 47,
   "metadata": {},
   "outputs": [
    {
     "name": "stdout",
     "output_type": "stream",
     "text": [
      "(502, 2)\n",
      "(502, 536)\n",
      "(502, 134)\n",
      "(502, 70)\n",
      "(502, 7)\n",
      "(502, 14)\n",
      "(502, 7)\n"
     ]
    },
    {
     "data": {
      "text/plain": [
       "(502, 211)"
      ]
     },
     "execution_count": 47,
     "metadata": {},
     "output_type": "execute_result"
    }
   ],
   "source": [
    "train_features_name = df_train[['Isolate','VCG']]\n",
    "print(train_features_name.shape)\n",
    "train_ref_all = df_train.iloc[:, 3:539]\n",
    "print(train_ref_all.shape)\n",
    "train_ref_whole = train_ref_all.loc[:, train_ref_all.columns.str.endswith('_all')]\n",
    "print(train_ref_whole.shape)\n",
    "\n",
    "#7 textural features from 10 wavelengths\n",
    "train_tex_all = df_train.iloc[:, 539:609]\n",
    "print(train_tex_all.shape)\n",
    "train_tex_1205 = train_tex_all.filter(regex='_1205$')\n",
    "print(train_tex_1205.shape)\n",
    "\n",
    "#7 morpho features from 2 tyeps \n",
    "train_morph_all = df_train.iloc[:,609:]\n",
    "print(train_morph_all.shape)\n",
    "train_morph_whole = train_morph_all.loc[:, train_morph_all.columns.str.endswith('_all')]\n",
    "print(train_morph_whole.shape)\n",
    "\n",
    "train_combined = pd.DataFrame(pd.concat([train_ref_whole, train_tex_all, train_morph_whole],axis =1))\n",
    "train_combined.shape"
   ]
  },
  {
   "cell_type": "markdown",
   "metadata": {},
   "source": [
    "### Test set"
   ]
  },
  {
   "cell_type": "code",
   "execution_count": 48,
   "metadata": {},
   "outputs": [
    {
     "name": "stdout",
     "output_type": "stream",
     "text": [
      "(213, 2)\n",
      "(213, 536)\n",
      "(213, 134)\n",
      "(213, 70)\n",
      "(213, 7)\n",
      "(213, 14)\n",
      "(213, 7)\n"
     ]
    },
    {
     "data": {
      "text/plain": [
       "(213, 211)"
      ]
     },
     "execution_count": 48,
     "metadata": {},
     "output_type": "execute_result"
    }
   ],
   "source": [
    "test_features_name = df_test[['Isolate','VCG']]\n",
    "print(test_features_name.shape)\n",
    "test_ref_all = df_test.iloc[:, 3:539]\n",
    "print(test_ref_all.shape)\n",
    "test_ref_whole = test_ref_all.loc[:, test_ref_all.columns.str.endswith('_all')]\n",
    "print(test_ref_whole.shape)\n",
    "\n",
    "#7 textural features from 10 wavelengths\n",
    "test_tex_all = df_test.iloc[:, 539:609]\n",
    "print(test_tex_all.shape)\n",
    "test_tex_1205 = test_tex_all.filter(regex='_1205$')\n",
    "print(test_tex_1205.shape)\n",
    "\n",
    "#7 morpho features from 2 tyeps \n",
    "test_morph_all = df_test.iloc[:,609:]\n",
    "print(test_morph_all.shape)\n",
    "test_morph_whole = test_morph_all.loc[:, test_morph_all.columns.str.endswith('_all')]\n",
    "print(test_morph_whole.shape)\n",
    "\n",
    "test_combined = pd.DataFrame(pd.concat([test_ref_whole, test_tex_all, test_morph_whole],axis =1))\n",
    "test_combined.shape"
   ]
  },
  {
   "cell_type": "markdown",
   "metadata": {},
   "source": [
    "### Features for training"
   ]
  },
  {
   "cell_type": "code",
   "execution_count": 49,
   "metadata": {},
   "outputs": [
    {
     "name": "stdout",
     "output_type": "stream",
     "text": [
      "(502, 211)\n",
      "(502,)\n",
      "[0, 0, 0, 0, 0, ..., 1, 1, 1, 1, 1]\n",
      "Length: 502\n",
      "Categories (2, int64): [0, 1]\n"
     ]
    }
   ],
   "source": [
    "X_train = np.array(pd.concat([train_combined],axis =1))\n",
    "print(X_train.shape)\n",
    "\n",
    "X_train = np.array(StandardScaler().fit_transform(X_train))\n",
    "y_train = pd.Categorical(pd.factorize(train_features_name.VCG)[0])\n",
    "print(y_train.shape)\n",
    "print(y_train)"
   ]
  },
  {
   "cell_type": "code",
   "execution_count": 50,
   "metadata": {},
   "outputs": [
    {
     "name": "stdout",
     "output_type": "stream",
     "text": [
      "(213, 211)\n",
      "(213,)\n",
      "[0, 0, 0, 0, 0, ..., 1, 1, 1, 1, 1]\n",
      "Length: 213\n",
      "Categories (2, int64): [0, 1]\n"
     ]
    }
   ],
   "source": [
    "X_test = np.array(pd.concat([test_combined],axis =1))\n",
    "print(X_test.shape)\n",
    "\n",
    "X_test = np.array(StandardScaler().fit_transform(X_test))\n",
    "y_test = pd.Categorical(pd.factorize(test_features_name.VCG)[0])\n",
    "print(y_test.shape)\n",
    "print(y_test)"
   ]
  },
  {
   "cell_type": "markdown",
   "metadata": {
    "tags": []
   },
   "source": [
    "### RF, SVM, LDA, KNN and DT"
   ]
  },
  {
   "cell_type": "code",
   "execution_count": 30,
   "metadata": {},
   "outputs": [],
   "source": [
    "import os\n",
    "import numpy as np\n",
    "import pandas as pd\n",
    "import seaborn as sns\n",
    "from sklearn.model_selection import KFold\n",
    "from sklearn.model_selection import GridSearchCV\n",
    "from sklearn.discriminant_analysis import LinearDiscriminantAnalysis as LDA\n",
    "from sklearn.tree import DecisionTreeClassifier\n",
    "from sklearn.neighbors import KNeighborsClassifier\n",
    "from sklearn.svm import SVC\n",
    "from sklearn.linear_model import LogisticRegression\n",
    "from sklearn.ensemble import RandomForestClassifier\n",
    "from sklearn.metrics import accuracy_score\n",
    "from sklearn.metrics import confusion_matrix\n",
    "from sklearn.metrics import precision_recall_fscore_support"
   ]
  },
  {
   "cell_type": "markdown",
   "metadata": {},
   "source": [
    "**KNN**\n",
    "* Assumption\n",
    "    * Data points that are similar have similar label\n",
    "* Non-parametric method so no assumptions are made about the decision boundry for the particular data\n",
    "* Performs better when the decision boundaries are non-linear\n",
    "* Unlike other methods it memorizes the training data and find k number of training examples closest to the test point(x)(sample to be predicted) and classify the observation to class with the highest probablity \n",
    "* Generally, Minkowski distance is frequently used for the distance function\n",
    "* Low k: High variance and low bias; High k: High bias and low variance\n",
    "* Pick odd number for k for ease in majority voting\n",
    "* Can't be used for inference (to know the important predictors and and relationship between predictors and target)\n",
    "* KNN doesn't work well on high dimensional data\n",
    "\n",
    "**References**\n",
    "* [James et al. An Introduction to Statistical Learning](https://static1.squarespace.com/static/5ff2adbe3fe4fe33db902812/t/601cc86d7f828c4792e0bcae/1612499080032/ISLR+Seventh+Printing.pdf)\n",
    "* [KNN Algorithm for Machine Learning](https://medium.com/capital-one-tech/k-nearest-neighbors-knn-algorithm-for-machine-learning-e883219c8f26)\n",
    "* [KNN- Cornell lecture](https://www.cs.cornell.edu/courses/cs4780/2018fa/lectures/lecturenote02_kNN.html)"
   ]
  },
  {
   "cell_type": "markdown",
   "metadata": {},
   "source": [
    "**KNN Hyperparameter Tuning**"
   ]
  },
  {
   "cell_type": "code",
   "execution_count": 54,
   "metadata": {},
   "outputs": [
    {
     "name": "stdout",
     "output_type": "stream",
     "text": [
      "Best Accuracy: 71.64 %\n",
      "Best Parameters: {'n_neighbors': 4}\n"
     ]
    }
   ],
   "source": [
    "model_knn = KNeighborsClassifier()\n",
    "parameters = [{'n_neighbors': [1,2,3,4,5,6,7,8,9,10]}]\n",
    "grid_search = GridSearchCV(estimator = model_knn,\n",
    "                           param_grid = parameters,\n",
    "                           scoring = 'accuracy',\n",
    "                           cv = 4,\n",
    "                           n_jobs = -1)\n",
    "grid_search = grid_search.fit(X_train, y_train)\n",
    "best_accuracy = grid_search.best_score_\n",
    "best_parameters = grid_search.best_params_\n",
    "print(\"Best Accuracy: {:.2f} %\".format(best_accuracy*100))\n",
    "print(\"Best Parameters:\", best_parameters)"
   ]
  },
  {
   "cell_type": "markdown",
   "metadata": {},
   "source": [
    "**SVM Hyperparameter Tuning**"
   ]
  },
  {
   "cell_type": "code",
   "execution_count": 55,
   "metadata": {},
   "outputs": [
    {
     "name": "stdout",
     "output_type": "stream",
     "text": [
      "Best Accuracy: 73.66 %\n",
      "Best Parameters: {'C': 10000, 'gamma': 0.001, 'kernel': 'rbf'}\n"
     ]
    }
   ],
   "source": [
    "model_svm = SVC(random_state = 123)#SVC is for one vs rest comparision in multiclass classification\n",
    "parameters = [{'C': [0.01, 0.1, 1, 10],\n",
    "              'gamma':[1, 0.1, 0.01],\n",
    "              'kernel': ('poly', 'linear','rbf')}]\n",
    "grid_search = GridSearchCV(estimator = model_svm,\n",
    "                           param_grid = parameters,\n",
    "                           scoring = 'accuracy',\n",
    "                           cv = 4,\n",
    "                           n_jobs = -1)\n",
    "grid_search = grid_search.fit(X_train, y_train)\n",
    "best_accuracy = grid_search.best_score_\n",
    "best_parameters = grid_search.best_params_\n",
    "print(\"Best Accuracy: {:.2f} %\".format(best_accuracy*100))\n",
    "print(\"Best Parameters:\", best_parameters)"
   ]
  },
  {
   "cell_type": "markdown",
   "metadata": {},
   "source": [
    "**RF Hyperparameter Tuning**"
   ]
  },
  {
   "cell_type": "code",
   "execution_count": 56,
   "metadata": {},
   "outputs": [
    {
     "name": "stdout",
     "output_type": "stream",
     "text": [
      "Best Accuracy: 71.05 %\n",
      "Best Parameters: {'max_depth': None, 'n_estimators': 50}\n"
     ]
    }
   ],
   "source": [
    "model_rf = RandomForestClassifier(random_state = 55)\n",
    "parameters = [{'n_estimators': [int(x) for x in np.linspace(start = 50, stop = 500, num = 20)],\n",
    "              'max_depth':[None,1,2,3,4,5],\n",
    "              }]\n",
    "grid_search = GridSearchCV(estimator = model_rf,\n",
    "                           param_grid = parameters,\n",
    "                           scoring = 'accuracy',\n",
    "                           cv = 4,\n",
    "                           n_jobs = -1)\n",
    "grid_search = grid_search.fit(X_train, y_train)\n",
    "best_accuracy = grid_search.best_score_\n",
    "best_parameters = grid_search.best_params_\n",
    "print(\"Best Accuracy: {:.2f} %\".format(best_accuracy*100))\n",
    "print(\"Best Parameters:\", best_parameters)"
   ]
  },
  {
   "cell_type": "markdown",
   "metadata": {},
   "source": [
    "### All ML models"
   ]
  },
  {
   "cell_type": "code",
   "execution_count": null,
   "metadata": {},
   "outputs": [],
   "source": [
    "import numpy as np\n",
    "import pandas as pd\n",
    "from sklearn.metrics import accuracy_score, precision_recall_fscore_support, confusion_matrix\n",
    "from sklearn.discriminant_analysis import LinearDiscriminantAnalysis as LDA\n",
    "from sklearn.tree import DecisionTreeClassifier\n",
    "from sklearn.ensemble import RandomForestClassifier\n",
    "from sklearn.neighbors import KNeighborsClassifier\n",
    "from sklearn.svm import SVC\n",
    "\n",
    "# Example X and y (replace with your own data)\n",
    "# Assume X_train, X_test, y_train, y_test are already defined\n",
    "# Example: X_train, X_test, y_train, y_test = train_test_split(X, y, test_size=0.3, random_state=123)\n",
    "\n",
    "# Define your models\n",
    "models = [('LDA', LDA(n_components=2)),\n",
    "          ('RF', RandomForestClassifier(n_estimators=150, class_weight='balanced', random_state=123)),\n",
    "          ('KNN', KNeighborsClassifier(n_neighbors=10)),\n",
    "          ('SVM', SVC(C=10, gamma=1, kernel='rbf', random_state=55, class_weight='balanced')),\n",
    "          ]\n",
    "\n",
    "# Store results for all models\n",
    "results_overall = []\n",
    "results_class = []\n",
    "model_names = []\n",
    "\n",
    "# Iterate through each model\n",
    "for name, model in models:\n",
    "    # Fit the model on the training data\n",
    "    model.fit(X_train, y_train)\n",
    "    \n",
    "    # Predict on the test data\n",
    "    y_pred = model.predict(X_test)\n",
    "    \n",
    "    # Calculate metrics\n",
    "    acc_overall = accuracy_score(y_test, y_pred)  # Overall accuracy\n",
    "    cfx = confusion_matrix(y_test, y_pred, normalize='true')  # Confusion matrix\n",
    "    acc_class = np.diagonal(cfx)  # Class-specific accuracy\n",
    "    score_class = precision_recall_fscore_support(y_test, y_pred)  # Class-specific metrics\n",
    "    score_overall = precision_recall_fscore_support(y_test, y_pred, average='macro')  # Overall metrics\n",
    "    \n",
    "    # Combine results for overall metrics\n",
    "    combined_scores_overall = [acc_overall] + list(score_overall[:3])  # Accuracy, Precision, Recall, F1\n",
    "    results_overall.append(combined_scores_overall)  # Store overall results for the model\n",
    "    \n",
    "    # Combine results for class-specific metrics\n",
    "    combined_scores_class = np.concatenate((np.reshape(acc_class, (1, len(acc_class))), np.array(score_class[:3])))\n",
    "    results_class.append(combined_scores_class)  # Store class-specific results for the model\n",
    "    \n",
    "    # Store model name\n",
    "    model_names.append(name)\n",
    "\n",
    "# Convert results to numpy arrays\n",
    "results_overall = np.array(results_overall)\n",
    "results_class = np.array(results_class)\n",
    "\n",
    "# Print the shapes of the results\n",
    "print(\"Overall Results Shape:\", results_overall.shape)  # Shape: (number of models, 4) ['accuracy', 'precision', 'recall', 'f1']\n",
    "print(\"Class-Specific Results Shape:\", results_class.shape)  # Shape: (number of models, number of metrics, number of classes)\n",
    "\n",
    "# Display the overall results for each model\n",
    "df_overall = pd.DataFrame(results_overall, columns=['Accuracy', 'Precision', 'Recall', 'F1_score'], index=model_names)\n",
    "print(\"Overall Results for Each Model:\")\n",
    "print(df_overall)\n"
   ]
  },
  {
   "cell_type": "markdown",
   "metadata": {},
   "source": [
    "**Classification report overall**"
   ]
  },
  {
   "cell_type": "code",
   "execution_count": 32,
   "metadata": {},
   "outputs": [
    {
     "name": "stdout",
     "output_type": "stream",
     "text": [
      "Empty DataFrame\n",
      "Columns: [Accuracy, Precision, Recall, F1_score, Model, Dataset]\n",
      "Index: []\n"
     ]
    }
   ],
   "source": [
    "col_name = ['Accuracy', 'Precision', 'Recall','F1_score']#sequence of the metrics in the array[colnames]\n",
    "df_report_overall = pd.DataFrame(results_overall, columns=list(col_name))\n",
    "df_report_overall['Model']= model_names#add column for model information\n",
    "df_report_overall['Dataset'] = ['12days_all']*len(df_report_overall)\n",
    "print(df_report_overall)"
   ]
  },
  {
   "cell_type": "code",
   "execution_count": null,
   "metadata": {},
   "outputs": [],
   "source": [
    "melt_report_overall = df_report_overall.melt(id_vars = ['Model','Dataset'], value_name = 'Score')#define id_vars and melt data\n",
    "print('before: %s, after: %s'%(df_report_overall.shape, melt_report_overall.shape))#show shape of the file before and after meltingd\n",
    "melt_report_overall = melt_report_overall.rename({'variable':'Parameter'}, axis=1)#rename the column 'variable'\n",
    "melt_report_overall.head()"
   ]
  },
  {
   "cell_type": "code",
   "execution_count": 100,
   "metadata": {},
   "outputs": [
    {
     "data": {
      "image/png": "[encoded data removed]",
      "text/plain": [
       "<Figure size 432x288 with 1 Axes>"
      ]
     },
     "metadata": {
      "needs_background": "light"
     },
     "output_type": "display_data"
    }
   ],
   "source": [
    "fig, ax = plt.subplots(figsize=(6, 4))\n",
    "ax = sns.scatterplot(x=\"Parameter\", y=\"Score\", hue = 'Model', style = 'Model',data=melt_report_overall, s = 100, palette = 'colorblind')\n",
    "ax.legend(loc='center right', bbox_to_anchor=(1.25, 0.5), ncol=1)\n",
    "ax.set_title('')\n",
    "#ax.set(xticklabels = [])#remove the ticks label\n",
    "#ax.set(xlabel=None)#remove axis label\n",
    "plt.legend([],[], frameon=True)\n",
    "#plt.savefig('Figures/clf_report_12days_scaled/clf_overall_entire_12days_N+S.png', dpi = 300)\n",
    "plt.show()"
   ]
  },
  {
   "cell_type": "code",
   "execution_count": null,
   "metadata": {},
   "outputs": [],
   "source": [
    "metrics = ['Accuracy', 'Precision','Recall','F1_score']#list of the metrics in sequence\n",
    "column = ['vcg_2B','vcg_4A','vcg_4B']\n",
    "df = pd.DataFrame(results_class.reshape(-1, 3), columns=list(column))#change dataframe\n",
    "df.insert(0, 'Parameter', metrics*results_class.shape[0])#insert metrics as a first column \n",
    "df['Model'] = np.repeat(model_names, repeats = results_class.shape[1])# Insert model column with the name of models \n",
    "df['Dataset'] = ['ref']*len(df)#Insert the dataset column \n",
    "df_report_class = df\n",
    "print(df_report_class.head(20))"
   ]
  },
  {
   "cell_type": "code",
   "execution_count": null,
   "metadata": {},
   "outputs": [],
   "source": [
    "melt_report_class = df_report_class.melt(id_vars = ['Parameter','Model','Dataset'], value_name = 'Score')#define id_vars and melt data\n",
    "print('before: %s, after: %s'%(df_report_class.shape, melt_report_class.shape))#show shape of the file before and after melting\n",
    "melt_report_class = melt_report_class[melt_report_class['Parameter']!='Support']#Remove support from metrics column\n",
    "melt_report_class = melt_report_class.rename({'variable':'VCG'}, axis=1)#rename the column 'variable'\n",
    "print(melt_report_class.head())"
   ]
  },
  {
   "cell_type": "code",
   "execution_count": 52,
   "metadata": {},
   "outputs": [
    {
     "data": {
      "image/png": "[encoded data removed]",
      "text/plain": [
       "<Figure size 705.75x216 with 3 Axes>"
      ]
     },
     "metadata": {
      "needs_background": "light"
     },
     "output_type": "display_data"
    }
   ],
   "source": [
    "ax = sns.FacetGrid(data = melt_report_class , col = 'VCG', hue = 'Model', palette = 'colorblind')\n",
    "ax.map(plt.scatter, 'Parameter','Score', alpha =1)\n",
    "ax.add_legend()\n",
    "ax.fig.subplots_adjust(top=0.85)\n",
    "ax.fig.suptitle('Reflectance-Entire colony (12days -normalized)')\n",
    "#plt.savefig('Figures/clf_class_Entire_12days_N+S.png', dpi = 300)\n",
    "plt.show()"
   ]
  },
  {
   "cell_type": "markdown",
   "metadata": {},
   "source": [
    "### Single Model"
   ]
  },
  {
   "cell_type": "code",
   "execution_count": 51,
   "metadata": {},
   "outputs": [
    {
     "name": "stdout",
     "output_type": "stream",
     "text": [
      "Overall Accuracy: 0.87\n",
      "Precision: 0.87\n",
      "Recall: 0.87\n",
      "F1-Score: 0.87\n"
     ]
    }
   ],
   "source": [
    "# Initialize the Random Forest model\n",
    "rf_model = RandomForestClassifier(n_estimators=150, random_state=123, class_weight='balanced')\n",
    "\n",
    "# Fit the model on the training set\n",
    "rf_model.fit(X_train, y_train)\n",
    "\n",
    "# Make predictions on the test set\n",
    "y_pred = rf_model.predict(X_test)\n",
    "\n",
    "# Calculate overall metrics\n",
    "accuracy = accuracy_score(y_test, y_pred)\n",
    "precision, recall, f1, _ = precision_recall_fscore_support(y_test, y_pred, average='macro')\n",
    "conf_matrix = confusion_matrix(y_test, y_pred, normalize='true')\n",
    "\n",
    "# Print performance metrics\n",
    "print(f'Overall Accuracy: {accuracy:.2f}')\n",
    "print(f'Precision: {precision:.2f}')\n",
    "print(f'Recall: {recall:.2f}')\n",
    "print(f'F1-Score: {f1:.2f}')"
   ]
  },
  {
   "cell_type": "code",
   "execution_count": null,
   "metadata": {},
   "outputs": [],
   "source": [
    "# Assuming `avg_confusion_matrix` is your confusion matrix data\n",
    "fig, ax = plt.subplots(figsize=(3, 3))\n",
    "\n",
    "# Create the heatmap\n",
    "heatmap = sns.heatmap(conf_matrix, cmap='Reds', annot=True, ax=ax,\n",
    "                      xticklabels=['2B', '4A', '4B'],  # Update the order of x-tick labels\n",
    "                      yticklabels=['2B', '4A', '4B'], fmt='.2f', cbar=False,\n",
    "                      annot_kws={\"fontsize\": 12})  # Set default annotation font size\n",
    "# Set axis labels\n",
    "ax.set_xlabel('Predicted Label', fontsize=12)\n",
    "ax.set_ylabel('True Label', fontsize=12)\n",
    "\n",
    "# Make diagonal values bold and increase their font size\n",
    "for text in heatmap.texts:\n",
    "    if text.get_position()[0] == text.get_position()[1]:  # Check if it is a diagonal value\n",
    "        text.set_fontsize(12)  # Increase diagonal font size\n",
    "        text.set_fontweight('bold')  # Make diagonal font bold\n",
    "\n",
    "# Adjust layout\n",
    "plt.tight_layout()\n",
    "# Save the plot if needed\n",
    "#plt.savefig('confusion_matrix_2Bvsall.jpg', dpi=300)\n",
    "# Display the plot\n",
    "plt.show()"
   ]
  },
  {
   "cell_type": "markdown",
   "metadata": {},
   "source": [
    "### Artificial Neural Network"
   ]
  },
  {
   "cell_type": "code",
   "execution_count": 53,
   "metadata": {},
   "outputs": [],
   "source": [
    "import tensorflow as tf\n",
    "from tensorflow import keras\n",
    "from tensorflow.keras.models import Sequential\n",
    "from tensorflow.keras import regularizers, optimizers, metrics, losses\n",
    "from tensorflow.keras.utils import to_categorical\n",
    "from tensorflow.keras.layers import Dense\n",
    "from sklearn.metrics import accuracy_score\n",
    "from sklearn.metrics import precision_recall_fscore_support\n",
    "from sklearn.metrics import confusion_matrix"
   ]
  },
  {
   "cell_type": "markdown",
   "metadata": {},
   "source": [
    "**Change targets into dummy variables**"
   ]
  },
  {
   "cell_type": "code",
   "execution_count": 54,
   "metadata": {},
   "outputs": [
    {
     "name": "stdout",
     "output_type": "stream",
     "text": [
      "(502,)\n"
     ]
    },
    {
     "data": {
      "text/plain": [
       "(213,)"
      ]
     },
     "execution_count": 54,
     "metadata": {},
     "output_type": "execute_result"
    }
   ],
   "source": [
    "n_classes =2\n",
    "y_train_ann = keras.utils.to_categorical(y_train, num_classes = n_classes)\n",
    "print(y_train.shape)\n",
    "y_test_ann = keras.utils.to_categorical(y_test, num_classes = n_classes)\n",
    "y_test.shape"
   ]
  },
  {
   "cell_type": "code",
   "execution_count": null,
   "metadata": {},
   "outputs": [],
   "source": [
    "from sklearn.metrics import accuracy_score, precision_recall_fscore_support, confusion_matrix\n",
    "import numpy as np\n",
    "from keras.models import Sequential\n",
    "from keras.layers import Dense\n",
    "\n",
    "# Variables to store results\n",
    "train_acc = []\n",
    "train_loss = []\n",
    "acc_test = []\n",
    "score_test = []\n",
    "cfx_test = []\n",
    "\n",
    "# Build the neural network model\n",
    "model = Sequential()\n",
    "model.add(Dense(90, input_dim=X_train.shape[1], activation='relu'))  # Input layer with 90 neurons\n",
    "\n",
    "# Additional hidden layers\n",
    "#model.add(Dense(64, activation='relu'))  # First additional hidden layer with 64 neurons\n",
    "#model.add(Dense(32, activation='relu'))  # Second additional hidden layer with 32 neurons\n",
    "#model.add(Dense(16, activation='relu'))  # Third additional hidden layer with 16 neurons\n",
    "\n",
    "\n",
    "model.add(Dense(2, activation='softmax'))  # Output layer with 3 classes\n",
    "model.summary()\n",
    "\n",
    "# Compile the model\n",
    "model.compile(loss='categorical_crossentropy', optimizer='adam', metrics=['accuracy'])\n",
    "\n",
    "# Train the model\n",
    "history = model.fit(X_train, y_train_ann, batch_size=3, epochs=200, verbose=0)\n",
    "\n",
    "# Training metrics\n",
    "train_acc = history.history['accuracy']\n",
    "train_loss = history.history['loss']\n",
    "\n",
    "# Evaluate on the test set\n",
    "y_pred = np.argmax(model.predict(X_test), axis=1)\n",
    "y_test_actual = np.argmax(y_test_ann, axis=1)\n",
    "\n",
    "# Calculate test metrics\n",
    "acc_test.append(accuracy_score(y_test_actual, y_pred))\n",
    "cfx_test.append(confusion_matrix(y_test_actual, y_pred, labels=[0, 1, 2], normalize='true'))\n",
    "score_test.append(precision_recall_fscore_support(y_test_actual, y_pred, labels=[0, 1, 2], average='macro'))\n",
    "\n",
    "# Calculate average metrics\n",
    "avg_test_acc = np.mean(acc_test)\n",
    "avg_precision, avg_recall, avg_f1 = score_test[0][:3]\n",
    "\n",
    "# Print results\n",
    "print('Test Accuracy: %.3f' % avg_test_acc)\n",
    "print('Test Precision: %.3f' % avg_precision)\n",
    "print('Test Recall: %.3f' % avg_recall)\n",
    "print('Test F1 Score: %.3f' % avg_f1)\n",
    "print('Training Accuracy: %.3f' % (np.mean(train_acc) * 100))\n",
    "print('Training Loss: %.3f' % np.mean(train_loss))"
   ]
  },
  {
   "cell_type": "code",
   "execution_count": null,
   "metadata": {},
   "outputs": [],
   "source": [
    "import matplotlib.pyplot as plt\n",
    "import seaborn as sns\n",
    "cfx_test = np.mean(cfx_test, axis=0)\n",
    "# Assuming c_matrix is your confusion matrix data\n",
    "fig, ax = plt.subplots(figsize=(4, 4))\n",
    "ax = sns.heatmap(cfx_test, cmap='Greys', annot=True, ax=ax,\n",
    "                 xticklabels=['VCG_2B', 'VCG_4A', 'VCG_4B'],  # Update the order of x-tick labels\n",
    "                 yticklabels=['VCG_2B', 'VCG_4A', 'VCG_4B'])  # Update the order of y-tick labels\n",
    "\n",
    "ax.set_xlabel('Predicted Label', fontsize=10)\n",
    "ax.set_ylabel('True Label', fontsize=10)\n",
    "\n",
    "plt.tight_layout()\n",
    "# Save the plot if needed\n",
    "#plt.savefig('ann_all_features_final_train_test.png', dpi=300)\n",
    "plt.show()"
   ]
  },
  {
   "cell_type": "markdown",
   "metadata": {},
   "source": [
    "### Feature Selection"
   ]
  },
  {
   "cell_type": "markdown",
   "metadata": {},
   "source": [
    "Why feature selection?\n",
    "* Remove uniformatic features\n",
    "* Reduces overfitting\n",
    "* Improves model performance\n",
    "* Reduces computational cost"
   ]
  },
  {
   "cell_type": "markdown",
   "metadata": {},
   "source": [
    "---"
   ]
  },
  {
   "cell_type": "markdown",
   "metadata": {},
   "source": [
    "#### Least Absolute Shrinkage and Selection Operator (LASSO)"
   ]
  },
  {
   "cell_type": "markdown",
   "metadata": {},
   "source": [
    "**LASSO**\n",
    "* Parametric method, \n",
    "* Supervised learning method based on linear regression with l1 regularization\n",
    "* LASSO penalizes the linear regression model by shrinking the coefficient to near to zero or exactly zero and helps to reduce the model complexity and deals with multicollinearity. \n",
    "* Prevents from overfitting and also be used for feature selection\n",
    "* Produces highly interpretable models\n",
    "\n",
    "**Reference** \n",
    "* [James et al. An Introduction to Statistical Learning](https://static1.squarespace.com/static/5ff2adbe3fe4fe33db902812/t/601cc86d7f828c4792e0bcae/1612499080032/ISLR+Seventh+Printing.pdf)"
   ]
  },
  {
   "cell_type": "code",
   "execution_count": 13,
   "metadata": {},
   "outputs": [],
   "source": [
    "from sklearn.linear_model import LogisticRegression\n",
    "from sklearn.model_selection import GridSearchCV\n",
    "from sklearn.feature_selection import SelectFromModel\n",
    "from sklearn.feature_selection import RFE#recursive feature elimination"
   ]
  },
  {
   "cell_type": "markdown",
   "metadata": {},
   "source": [
    "**Hyperparameter tuning for Lasso**"
   ]
  },
  {
   "cell_type": "markdown",
   "metadata": {},
   "source": [
    "* Hyperparameter tuing for the C value. According to scikit, C = 1/lamda, \n",
    "High C = high variance, \n",
    "low C = high bias, \n",
    "C = 0 equals to linear regression"
   ]
  },
  {
   "cell_type": "code",
   "execution_count": 31,
   "metadata": {},
   "outputs": [
    {
     "name": "stdout",
     "output_type": "stream",
     "text": [
      "Best Accuracy: 73.70 %\n",
      "Best Parameters: {'C': 10, 'solver': 'liblinear'}\n"
     ]
    }
   ],
   "source": [
    "model_lasso = LogisticRegression(penalty=\"l1\", max_iter =1000)\n",
    "parameters = [{'C': [0.1,0.5,1, 10],\n",
    "              'solver':('liblinear', 'saga')}]\n",
    "grid_search = GridSearchCV(estimator = model_lasso,\n",
    "                           param_grid = parameters,\n",
    "                           scoring = 'accuracy',\n",
    "                           cv = 4,\n",
    "                           n_jobs = -1)\n",
    "grid_search = grid_search.fit(X,y)\n",
    "best_accuracy = grid_search.best_score_\n",
    "best_parameters = grid_search.best_params_\n",
    "print(\"Best Accuracy: {:.2f} %\".format(best_accuracy*100))\n",
    "print(\"Best Parameters:\", best_parameters)"
   ]
  },
  {
   "cell_type": "code",
   "execution_count": 18,
   "metadata": {},
   "outputs": [
    {
     "name": "stdout",
     "output_type": "stream",
     "text": [
      "DataFrame Shape: (134, 1)\n"
     ]
    },
    {
     "data": {
      "text/html": [
       "<div>\n",
       "<style scoped>\n",
       "    .dataframe tbody tr th:only-of-type {\n",
       "        vertical-align: middle;\n",
       "    }\n",
       "\n",
       "    .dataframe tbody tr th {\n",
       "        vertical-align: top;\n",
       "    }\n",
       "\n",
       "    .dataframe thead th {\n",
       "        text-align: right;\n",
       "    }\n",
       "</style>\n",
       "<table border=\"1\" class=\"dataframe\">\n",
       "  <thead>\n",
       "    <tr style=\"text-align: right;\">\n",
       "      <th></th>\n",
       "      <th>Wavelength</th>\n",
       "    </tr>\n",
       "  </thead>\n",
       "  <tbody>\n",
       "    <tr>\n",
       "      <th>0</th>\n",
       "      <td>575</td>\n",
       "    </tr>\n",
       "    <tr>\n",
       "      <th>1</th>\n",
       "      <td>583</td>\n",
       "    </tr>\n",
       "    <tr>\n",
       "      <th>2</th>\n",
       "      <td>592</td>\n",
       "    </tr>\n",
       "    <tr>\n",
       "      <th>3</th>\n",
       "      <td>600</td>\n",
       "    </tr>\n",
       "    <tr>\n",
       "      <th>4</th>\n",
       "      <td>608</td>\n",
       "    </tr>\n",
       "  </tbody>\n",
       "</table>\n",
       "</div>"
      ],
      "text/plain": [
       "  Wavelength\n",
       "0        575\n",
       "1        583\n",
       "2        592\n",
       "3        600\n",
       "4        608"
      ]
     },
     "execution_count": 18,
     "metadata": {},
     "output_type": "execute_result"
    }
   ],
   "source": [
    "import pandas as pd\n",
    "\n",
    "# Modify column names by extracting the numeric part and rounding, ignoring non-numeric columns\n",
    "df_wavelength = pd.DataFrame([\n",
    "    str(round(float(col.split('_')[0]))) if col.split('_')[0].replace('.', '', 1).isdigit() else col\n",
    "    for col in train_ref_whole.columns])\n",
    "\n",
    "# Create a new column called 'Wavelength' from the processed column names\n",
    "df_wavelength.columns = ['Wavelength']  # Rename the single column\n",
    "df_wavelength['Wavelength'] = df_wavelength['Wavelength']  # Assign to 'Wavelength'\n",
    "\n",
    "# Display the shape of the DataFrame\n",
    "print(\"DataFrame Shape:\", df_wavelength.shape)\n",
    "\n",
    "# Display the first few rows to verify\n",
    "df_wavelength.head()\n"
   ]
  },
  {
   "cell_type": "markdown",
   "metadata": {},
   "source": [
    "**Feature Selection using SelectFromModel**"
   ]
  },
  {
   "cell_type": "code",
   "execution_count": 19,
   "metadata": {},
   "outputs": [
    {
     "name": "stdout",
     "output_type": "stream",
     "text": [
      "Number of features shrunk to zero: 117\n"
     ]
    },
    {
     "data": {
      "text/html": [
       "<div>\n",
       "<style scoped>\n",
       "    .dataframe tbody tr th:only-of-type {\n",
       "        vertical-align: middle;\n",
       "    }\n",
       "\n",
       "    .dataframe tbody tr th {\n",
       "        vertical-align: top;\n",
       "    }\n",
       "\n",
       "    .dataframe thead th {\n",
       "        text-align: right;\n",
       "    }\n",
       "</style>\n",
       "<table border=\"1\" class=\"dataframe\">\n",
       "  <thead>\n",
       "    <tr style=\"text-align: right;\">\n",
       "      <th></th>\n",
       "      <th>Rank</th>\n",
       "      <th>Wavelength</th>\n",
       "    </tr>\n",
       "  </thead>\n",
       "  <tbody>\n",
       "    <tr>\n",
       "      <th>0</th>\n",
       "      <td>1</td>\n",
       "      <td>575</td>\n",
       "    </tr>\n",
       "    <tr>\n",
       "      <th>30</th>\n",
       "      <td>1</td>\n",
       "      <td>824</td>\n",
       "    </tr>\n",
       "    <tr>\n",
       "      <th>57</th>\n",
       "      <td>1</td>\n",
       "      <td>1047</td>\n",
       "    </tr>\n",
       "    <tr>\n",
       "      <th>58</th>\n",
       "      <td>1</td>\n",
       "      <td>1056</td>\n",
       "    </tr>\n",
       "    <tr>\n",
       "      <th>84</th>\n",
       "      <td>1</td>\n",
       "      <td>1271</td>\n",
       "    </tr>\n",
       "    <tr>\n",
       "      <th>85</th>\n",
       "      <td>1</td>\n",
       "      <td>1279</td>\n",
       "    </tr>\n",
       "    <tr>\n",
       "      <th>86</th>\n",
       "      <td>1</td>\n",
       "      <td>1288</td>\n",
       "    </tr>\n",
       "    <tr>\n",
       "      <th>87</th>\n",
       "      <td>1</td>\n",
       "      <td>1296</td>\n",
       "    </tr>\n",
       "    <tr>\n",
       "      <th>88</th>\n",
       "      <td>1</td>\n",
       "      <td>1304</td>\n",
       "    </tr>\n",
       "    <tr>\n",
       "      <th>89</th>\n",
       "      <td>1</td>\n",
       "      <td>1313</td>\n",
       "    </tr>\n",
       "    <tr>\n",
       "      <th>90</th>\n",
       "      <td>1</td>\n",
       "      <td>1321</td>\n",
       "    </tr>\n",
       "    <tr>\n",
       "      <th>91</th>\n",
       "      <td>1</td>\n",
       "      <td>1329</td>\n",
       "    </tr>\n",
       "    <tr>\n",
       "      <th>92</th>\n",
       "      <td>1</td>\n",
       "      <td>1337</td>\n",
       "    </tr>\n",
       "    <tr>\n",
       "      <th>93</th>\n",
       "      <td>1</td>\n",
       "      <td>1346</td>\n",
       "    </tr>\n",
       "    <tr>\n",
       "      <th>124</th>\n",
       "      <td>1</td>\n",
       "      <td>1603</td>\n",
       "    </tr>\n",
       "  </tbody>\n",
       "</table>\n",
       "</div>"
      ],
      "text/plain": [
       "     Rank Wavelength\n",
       "0       1        575\n",
       "30      1        824\n",
       "57      1       1047\n",
       "58      1       1056\n",
       "84      1       1271\n",
       "85      1       1279\n",
       "86      1       1288\n",
       "87      1       1296\n",
       "88      1       1304\n",
       "89      1       1313\n",
       "90      1       1321\n",
       "91      1       1329\n",
       "92      1       1337\n",
       "93      1       1346\n",
       "124     1       1603"
      ]
     },
     "execution_count": 19,
     "metadata": {},
     "output_type": "execute_result"
    }
   ],
   "source": [
    "model_lasso = SelectFromModel(LogisticRegression(C =0.25, penalty=\"l1\", max_iter =1000,solver='liblinear'\n",
    "                            ,random_state = 55),max_features=15)\n",
    "model_lasso.fit(X_train, y_train)\n",
    "Ranked_lasso = pd.DataFrame(model_lasso.get_support())\n",
    "Ranked_lasso['Wavelength'] = df_wavelength['Wavelength'].values#Add wavelength information to the Ranked dataframe\n",
    "Ranked_lasso.columns = ['Rank', 'Wavelength']#Rename the columns\n",
    "Ranked_lasso['Rank'] = Ranked_lasso['Rank']*1 # Change boolean to 0 and 1. If true 1, else 0\n",
    "Imp_features_LR = Ranked_lasso[Ranked_lasso['Rank'] == 1]#Select top ten features\n",
    "# Assuming model_lasso is the trained SelectFromModel with LogisticRegression\n",
    "\n",
    "coef_matrix = model_lasso.estimator_.coef_  # Extract the coefficient matrix\n",
    "zero_coef_features = np.sum(np.abs(coef_matrix), axis=0) == 0\n",
    "features_shrunk_to_zero = np.sum(zero_coef_features)\n",
    "print(f\"Number of features shrunk to zero: {features_shrunk_to_zero}\")\n",
    "Imp_features_LR"
   ]
  },
  {
   "cell_type": "markdown",
   "metadata": {},
   "source": [
    "**Feature Selection using Recursive Feature Elimination**"
   ]
  },
  {
   "cell_type": "code",
   "execution_count": 72,
   "metadata": {},
   "outputs": [
    {
     "data": {
      "text/html": [
       "<div>\n",
       "<style scoped>\n",
       "    .dataframe tbody tr th:only-of-type {\n",
       "        vertical-align: middle;\n",
       "    }\n",
       "\n",
       "    .dataframe tbody tr th {\n",
       "        vertical-align: top;\n",
       "    }\n",
       "\n",
       "    .dataframe thead th {\n",
       "        text-align: right;\n",
       "    }\n",
       "</style>\n",
       "<table border=\"1\" class=\"dataframe\">\n",
       "  <thead>\n",
       "    <tr style=\"text-align: right;\">\n",
       "      <th></th>\n",
       "      <th>Rank</th>\n",
       "      <th>Wavelength</th>\n",
       "    </tr>\n",
       "  </thead>\n",
       "  <tbody>\n",
       "    <tr>\n",
       "      <th>0</th>\n",
       "      <td>1</td>\n",
       "      <td>575</td>\n",
       "    </tr>\n",
       "    <tr>\n",
       "      <th>7</th>\n",
       "      <td>1</td>\n",
       "      <td>633</td>\n",
       "    </tr>\n",
       "    <tr>\n",
       "      <th>86</th>\n",
       "      <td>1</td>\n",
       "      <td>1288</td>\n",
       "    </tr>\n",
       "    <tr>\n",
       "      <th>92</th>\n",
       "      <td>1</td>\n",
       "      <td>1337</td>\n",
       "    </tr>\n",
       "    <tr>\n",
       "      <th>93</th>\n",
       "      <td>1</td>\n",
       "      <td>1346</td>\n",
       "    </tr>\n",
       "    <tr>\n",
       "      <th>94</th>\n",
       "      <td>1</td>\n",
       "      <td>1354</td>\n",
       "    </tr>\n",
       "    <tr>\n",
       "      <th>95</th>\n",
       "      <td>1</td>\n",
       "      <td>1362</td>\n",
       "    </tr>\n",
       "    <tr>\n",
       "      <th>96</th>\n",
       "      <td>1</td>\n",
       "      <td>1371</td>\n",
       "    </tr>\n",
       "    <tr>\n",
       "      <th>97</th>\n",
       "      <td>1</td>\n",
       "      <td>1379</td>\n",
       "    </tr>\n",
       "    <tr>\n",
       "      <th>98</th>\n",
       "      <td>1</td>\n",
       "      <td>1387</td>\n",
       "    </tr>\n",
       "    <tr>\n",
       "      <th>118</th>\n",
       "      <td>1</td>\n",
       "      <td>1553</td>\n",
       "    </tr>\n",
       "    <tr>\n",
       "      <th>123</th>\n",
       "      <td>1</td>\n",
       "      <td>1594</td>\n",
       "    </tr>\n",
       "    <tr>\n",
       "      <th>124</th>\n",
       "      <td>1</td>\n",
       "      <td>1603</td>\n",
       "    </tr>\n",
       "  </tbody>\n",
       "</table>\n",
       "</div>"
      ],
      "text/plain": [
       "     Rank Wavelength\n",
       "0       1        575\n",
       "7       1        633\n",
       "86      1       1288\n",
       "92      1       1337\n",
       "93      1       1346\n",
       "94      1       1354\n",
       "95      1       1362\n",
       "96      1       1371\n",
       "97      1       1379\n",
       "98      1       1387\n",
       "118     1       1553\n",
       "123     1       1594\n",
       "124     1       1603"
      ]
     },
     "execution_count": 72,
     "metadata": {},
     "output_type": "execute_result"
    }
   ],
   "source": [
    "model_lasso = LogisticRegression(C =0.2, penalty=\"l1\", max_iter =1000,solver='liblinear', random_state = 42)\n",
    "rfe_lasso = RFE(model_lasso, n_features_to_select=13, step=1)#fit rfe and select top 10 features\n",
    "fit_lasso = rfe_lasso.fit(X_train, y_train)# fit the model in dataset\n",
    "Ranked_lasso = pd.DataFrame(fit_lasso.ranking_)\n",
    "Ranked_lasso['Wavelength'] = df_wavelength['Wavelength'].values#Add wavelength information to the Ranked dataframe\n",
    "Ranked_lasso.columns = ['Rank', 'Wavelength']#Rename the columns\n",
    "Imp_features_lasso = Ranked_lasso[Ranked_lasso['Rank'] == 1]#Select top ten features\n",
    "Imp_features_lasso"
   ]
  },
  {
   "cell_type": "code",
   "execution_count": null,
   "metadata": {},
   "outputs": [],
   "source": [
    "# Train a Random Forest model\n",
    "rf_model = RandomForestClassifier(n_estimators=150, random_state=55)\n",
    "rf_model.fit(X_train, y_train)\n",
    "\n",
    "# Calculate Gini importance\n",
    "feature_importances = rf_model.feature_importances_\n",
    "\n",
    "# Create a DataFrame for visualization\n",
    "feature_importance_df = pd.DataFrame({\n",
    "    'Feature': ref_subset.columns,\n",
    "    'Gini Importance': feature_importances\n",
    "}).sort_values(by='Gini Importance', ascending=False)\n",
    "\n",
    "# Select only the top 15 features\n",
    "top_features_df = feature_importance_df.head(15)\n",
    "\n",
    "# Display the top 15 feature importances\n",
    "print(\"Top 15 Gini Feature Importances:\\n\", top_features_df)\n",
    "\n",
    "# Plotting the top 15 Gini importances\n",
    "plt.figure(figsize=(10, 8))\n",
    "plt.barh(top_features_df['Feature'], top_features_df['Gini Importance'], color='skyblue')\n",
    "plt.xlabel('Gini Importance')\n",
    "plt.ylabel('Feature')\n",
    "plt.title('Top 15 Feature Importance Based on Gini Index')\n",
    "plt.gca().invert_yaxis()  # Invert y-axis to display the most important feature at the top\n",
    "plt.show()"
   ]
  },
  {
   "cell_type": "markdown",
   "metadata": {
    "tags": []
   },
   "source": [
    "### **Machine learning on Selected Features**"
   ]
  },
  {
   "cell_type": "code",
   "execution_count": 139,
   "metadata": {},
   "outputs": [],
   "source": [
    "# Extract the row indices from `Imp_features_LR`\n",
    "selected_rows = Imp_features_LR.index.tolist()  # Convert the indices to a list"
   ]
  },
  {
   "cell_type": "code",
   "execution_count": null,
   "metadata": {},
   "outputs": [],
   "source": [
    "train_ref_subset = train_ref_whole.iloc[:, selected_rows]\n",
    "train_ref_subset.head()\n",
    "\n",
    "X1_train = np.array(pd.concat([train_ref_subset],axis =1))\n",
    "print(X1_train.shape)\n",
    "\n",
    "X1_train = np.array(StandardScaler().fit_transform(X1_train))\n",
    "print(X1_train.shape)\n",
    "y1_train = pd.Categorical(pd.factorize(train_features_name.VCG)[0])\n",
    "print(y1_train.shape)\n",
    "print(y1_train)"
   ]
  },
  {
   "cell_type": "code",
   "execution_count": null,
   "metadata": {},
   "outputs": [],
   "source": [
    "test_ref_subset = test_ref_whole.iloc[:, selected_rows]\n",
    "test_ref_subset.head()\n",
    "\n",
    "X1_test = np.array(pd.concat([test_ref_subset],axis =1))\n",
    "print(X1_test.shape)\n",
    "\n",
    "X1_test = np.array(StandardScaler().fit_transform(X1_test))\n",
    "print(X1_test.shape)\n",
    "y1_test = pd.Categorical(pd.factorize(test_features_name.VCG)[0])\n",
    "print(y1_test.shape)\n",
    "print(y1_test)"
   ]
  },
  {
   "cell_type": "markdown",
   "metadata": {},
   "source": [
    "#### All ML models"
   ]
  },
  {
   "cell_type": "code",
   "execution_count": null,
   "metadata": {},
   "outputs": [],
   "source": [
    "import numpy as np\n",
    "import pandas as pd\n",
    "from sklearn.metrics import accuracy_score, precision_recall_fscore_support, confusion_matrix\n",
    "from sklearn.discriminant_analysis import LinearDiscriminantAnalysis as LDA\n",
    "from sklearn.tree import DecisionTreeClassifier\n",
    "from sklearn.ensemble import RandomForestClassifier\n",
    "from sklearn.neighbors import KNeighborsClassifier\n",
    "from sklearn.svm import SVC\n",
    "\n",
    "# Example X and y (replace with your own data)\n",
    "# Assume X_train, X_test, y_train, y_test are already defined\n",
    "# Example: X_train, X_test, y_train, y_test = train_test_split(X, y, test_size=0.3, random_state=123)\n",
    "\n",
    "# Define your models\n",
    "models = [('LDA', LDA(n_components=2)),\n",
    "          ('DT', DecisionTreeClassifier(random_state=55)),\n",
    "          ('RF', RandomForestClassifier(n_estimators=100, class_weight='balanced', random_state=123)),\n",
    "          ('KNN', KNeighborsClassifier(n_neighbors=10)),\n",
    "          ('SVM', SVC(C=10, gamma=1, kernel='rbf', random_state=55, class_weight='balanced')),\n",
    "          ]\n",
    "\n",
    "# Store results for all models\n",
    "results_overall = []\n",
    "results_class = []\n",
    "model_names = []\n",
    "\n",
    "# Iterate through each model\n",
    "for name, model in models:\n",
    "    # Fit the model on the training data\n",
    "    model.fit(X1_train, y1_train)\n",
    "    \n",
    "    # Predict on the test data\n",
    "    y1_pred = model.predict(X1_test)\n",
    "    \n",
    "    # Calculate metrics\n",
    "    acc_overall = accuracy_score(y1_test, y1_pred)  # Overall accuracy\n",
    "    cfx = confusion_matrix(y1_test, y1_pred, normalize='true')  # Confusion matrix\n",
    "    acc_class = np.diagonal(cfx)  # Class-specific accuracy\n",
    "    score_class = precision_recall_fscore_support(y1_test, y1_pred)  # Class-specific metrics\n",
    "    score_overall = precision_recall_fscore_support(y1_test, y1_pred, average='macro')  # Overall metrics\n",
    "    \n",
    "    # Combine results for overall metrics\n",
    "    combined_scores_overall = [acc_overall] + list(score_overall[:3])  # Accuracy, Precision, Recall, F1\n",
    "    results_overall.append(combined_scores_overall)  # Store overall results for the model\n",
    "    \n",
    "    # Combine results for class-specific metrics\n",
    "    combined_scores_class = np.concatenate((np.reshape(acc_class, (1, len(acc_class))), np.array(score_class[:3])))\n",
    "    results_class.append(combined_scores_class)  # Store class-specific results for the model\n",
    "    \n",
    "    # Store model name\n",
    "    model_names.append(name)\n",
    "\n",
    "# Convert results to numpy arrays\n",
    "results_overall = np.array(results_overall)\n",
    "results_class = np.array(results_class)\n",
    "\n",
    "# Print the shapes of the results\n",
    "print(\"Overall Results Shape:\", results_overall.shape)  # Shape: (number of models, 4) ['accuracy', 'precision', 'recall', 'f1']\n",
    "print(\"Class-Specific Results Shape:\", results_class.shape)  # Shape: (number of models, number of metrics, number of classes)\n",
    "\n",
    "# Display the overall results for each model\n",
    "df_overall = pd.DataFrame(results_overall, columns=['Accuracy', 'Precision', 'Recall', 'F1_score'], index=model_names)\n",
    "print(\"Overall Results for Each Model:\")\n",
    "print(df_overall)\n"
   ]
  },
  {
   "cell_type": "code",
   "execution_count": null,
   "metadata": {},
   "outputs": [],
   "source": [
    "metrics = ['Accuracy', 'Precision','Recall','F1_score']#list of the metrics in sequence\n",
    "column = ['vcg_2B','vcg_4A','vcg_4B']\n",
    "df = pd.DataFrame(results_class.reshape(-1, 3), columns=list(column))#change dataframe\n",
    "df.insert(0, 'Parameter', metrics*results_class.shape[0])#insert metrics as a first column \n",
    "df['Model'] = np.repeat(model_names, repeats = results_class.shape[1])# Insert model column with the name of models \n",
    "df['Dataset'] = ['ref']*len(df)#Insert the dataset column \n",
    "df_report_class = df\n",
    "print(df_report_class.head(20))"
   ]
  },
  {
   "cell_type": "markdown",
   "metadata": {},
   "source": [
    "---"
   ]
  },
  {
   "cell_type": "markdown",
   "metadata": {},
   "source": [
    "---"
   ]
  },
  {
   "cell_type": "markdown",
   "metadata": {},
   "source": [
    "---"
   ]
  }
 ],
 "metadata": {
  "kernelspec": {
   "display_name": "Python 3 (ipykernel)",
   "language": "python",
   "name": "python3"
  },
  "language_info": {
   "codemirror_mode": {
    "name": "ipython",
    "version": 3
   },
   "file_extension": ".py",
   "mimetype": "text/x-python",
   "name": "python",
   "nbconvert_exporter": "python",
   "pygments_lexer": "ipython3",
   "version": "3.9.7"
  },
  "toc-autonumbering": false,
  "toc-showcode": false,
  "toc-showmarkdowntxt": false,
  "toc-showtags": false
 },
 "nbformat": 4,
 "nbformat_minor": 4
}
